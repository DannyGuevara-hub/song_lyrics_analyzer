{
  "nbformat": 4,
  "nbformat_minor": 0,
  "metadata": {
    "colab": {
      "name": "Analyzing song lyrics.ipynb",
      "provenance": []
    },
    "kernelspec": {
      "name": "python3",
      "display_name": "Python 3"
    },
    "language_info": {
      "name": "python"
    }
  },
  "cells": [
    {
      "cell_type": "code",
      "metadata": {
        "colab": {
          "base_uri": "https://localhost:8080/"
        },
        "id": "6xbK8aWeSPvK",
        "outputId": "ca472546-8b3c-4552-b87b-0be1ffcd5c4c"
      },
      "source": [
        "pip install lyricsgenius"
      ],
      "execution_count": 1,
      "outputs": [
        {
          "output_type": "stream",
          "text": [
            "Collecting lyricsgenius\n",
            "  Downloading lyricsgenius-3.0.1-py3-none-any.whl (59 kB)\n",
            "\u001b[?25l\r\u001b[K     |█████▌                          | 10 kB 26.5 MB/s eta 0:00:01\r\u001b[K     |███████████                     | 20 kB 27.9 MB/s eta 0:00:01\r\u001b[K     |████████████████▌               | 30 kB 12.1 MB/s eta 0:00:01\r\u001b[K     |██████████████████████          | 40 kB 7.9 MB/s eta 0:00:01\r\u001b[K     |███████████████████████████▋    | 51 kB 5.1 MB/s eta 0:00:01\r\u001b[K     |████████████████████████████████| 59 kB 2.6 MB/s \n",
            "\u001b[?25hRequirement already satisfied: requests>=2.20.0 in /usr/local/lib/python3.7/dist-packages (from lyricsgenius) (2.23.0)\n",
            "Requirement already satisfied: beautifulsoup4>=4.6.0 in /usr/local/lib/python3.7/dist-packages (from lyricsgenius) (4.6.3)\n",
            "Requirement already satisfied: urllib3!=1.25.0,!=1.25.1,<1.26,>=1.21.1 in /usr/local/lib/python3.7/dist-packages (from requests>=2.20.0->lyricsgenius) (1.24.3)\n",
            "Requirement already satisfied: chardet<4,>=3.0.2 in /usr/local/lib/python3.7/dist-packages (from requests>=2.20.0->lyricsgenius) (3.0.4)\n",
            "Requirement already satisfied: idna<3,>=2.5 in /usr/local/lib/python3.7/dist-packages (from requests>=2.20.0->lyricsgenius) (2.10)\n",
            "Requirement already satisfied: certifi>=2017.4.17 in /usr/local/lib/python3.7/dist-packages (from requests>=2.20.0->lyricsgenius) (2021.5.30)\n",
            "Installing collected packages: lyricsgenius\n",
            "Successfully installed lyricsgenius-3.0.1\n"
          ],
          "name": "stdout"
        }
      ]
    },
    {
      "cell_type": "code",
      "metadata": {
        "colab": {
          "base_uri": "https://localhost:8080/"
        },
        "id": "YPdHPYj1SU1o",
        "outputId": "7842c324-d74d-4b9c-caf9-2f5f587947ed"
      },
      "source": [
        "import lyricsgenius as lg\n",
        "import nltk\n",
        "from collections import Counter\n",
        "from nltk.tokenize import word_tokenize\n",
        "from nltk.corpus import stopwords\n",
        "import pandas as pd\n",
        "\n",
        "nltk.download('punkt')\n",
        "nltk.download('stopwords')"
      ],
      "execution_count": 2,
      "outputs": [
        {
          "output_type": "stream",
          "text": [
            "[nltk_data] Downloading package punkt to /root/nltk_data...\n",
            "[nltk_data]   Unzipping tokenizers/punkt.zip.\n",
            "[nltk_data] Downloading package stopwords to /root/nltk_data...\n",
            "[nltk_data]   Unzipping corpora/stopwords.zip.\n"
          ],
          "name": "stdout"
        },
        {
          "output_type": "execute_result",
          "data": {
            "text/plain": [
              "True"
            ]
          },
          "metadata": {},
          "execution_count": 2
        }
      ]
    },
    {
      "cell_type": "code",
      "metadata": {
        "id": "CEfK-WoTSc4Z"
      },
      "source": [
        "file = open(\"/content/text.txt\", \"w\")\n",
        "\n",
        "genius = lg.Genius('MxcF8xon-8OcqyG8GtJty7L_ACRhps_NtE8Gz_fSPyNiSAadzT_vL9rU6wzysJgK', \n",
        "                   skip_non_songs=True, \n",
        "                   excluded_terms=[\"(Live)\", \"Cabra\"], \n",
        "                   remove_section_headers=True)\n",
        "\n",
        "lyrics_list = []\n",
        "def get_lyrics(arr, k):\n",
        "    c = 0\n",
        "    for name in arr:\n",
        "        try:\n",
        "            songs = (genius.search_artist(name, max_songs=k, sort='popularity')).songs\n",
        "            s = [song.lyrics for song in songs]\n",
        "            lyrics_list.append(s)\n",
        "            file.write(\"\\n \\n   <|endoftext|>   \\n \\n\".join(s))\n",
        "            c += 1\n",
        "            print(f\"Songs grabbed:{len(s)}\")\n",
        "        except:\n",
        "            print(f\"some exception at {name}: {c}\")\n"
      ],
      "execution_count": 47,
      "outputs": []
    },
    {
      "cell_type": "code",
      "metadata": {
        "colab": {
          "base_uri": "https://localhost:8080/"
        },
        "id": "itcjqQLyTV0K",
        "outputId": "c46847ce-5d9e-428e-df6b-0213cb820181"
      },
      "source": [
        "artists = ['Bad Bunny','J Balvin','Ozuna','Anuel AA']\n",
        "get_lyrics(artists, 10)"
      ],
      "execution_count": 48,
      "outputs": [
        {
          "output_type": "stream",
          "text": [
            "Searching for songs by Bad Bunny...\n",
            "\n",
            "Song 1: \"Amorfoda\"\n",
            "\"Tú No Metes Cabra\" is not valid. Skipping.\n",
            "Song 2: \"MÍA\"\n",
            "Song 3: \"Yonaguni\"\n",
            "Song 4: \"Chambea\"\n",
            "Song 5: \"Soy Peor\"\n",
            "Song 6: \"Si Veo a Tu Mamá\"\n",
            "\"Tú No Metes Cabra (Remix)\" is not valid. Skipping.\n",
            "Song 7: \"Vete\"\n",
            "Song 8: \"Estamos Bien\"\n",
            "Song 9: \"Yo Perreo Sola\"\n",
            "Song 10: \"Dime Si Te Acuerdas\"\n",
            "\n",
            "Reached user-specified song limit (10).\n",
            "Done. Found 10 songs.\n",
            "Songs grabbed:10\n",
            "Searching for songs by J Balvin...\n",
            "\n",
            "Song 1: \"Safari\"\n",
            "Song 2: \"Si Tu Novio Te Deja Sola\"\n",
            "Song 3: \"Ginza\"\n",
            "Song 4: \"Brillo\"\n",
            "Song 5: \"Morado\"\n",
            "Song 6: \"Blanco\"\n",
            "Song 7: \"Ambiente\"\n",
            "Song 8: \"No Es Justo\"\n",
            "Song 9: \"Ahora\"\n",
            "Song 10: \"Amarillo\"\n",
            "\n",
            "Reached user-specified song limit (10).\n",
            "Done. Found 10 songs.\n",
            "Songs grabbed:10\n",
            "Searching for songs by Ozuna...\n",
            "\n",
            "Song 1: \"La Modelo\"\n",
            "Song 2: \"El Farsante (Remix)\"\n",
            "Song 3: \"Amor Genuino\"\n",
            "Song 4: \"Vaina Loca\"\n",
            "Song 5: \"Aura\"\n",
            "Song 6: \"El Farsante\"\n",
            "Song 7: \"Tu Foto\"\n",
            "Song 8: \"Única\"\n",
            "Song 9: \"Dile Que Tú Me Quieres\"\n",
            "Song 10: \"Se Preparó\"\n",
            "\n",
            "Reached user-specified song limit (10).\n",
            "Done. Found 10 songs.\n",
            "Songs grabbed:10\n",
            "Searching for songs by Anuel AA...\n",
            "\n",
            "\"Tú No Metes Cabra (Remix)\" is not valid. Skipping.\n",
            "Song 1: \"Brindemos\"\n",
            "Song 2: \"Yeezy\"\n",
            "Song 3: \"Quiere Beber\"\n",
            "Song 4: \"Sola (Remix)\"\n",
            "Song 5: \"Nunca Sapo\"\n",
            "Song 6: \"Na’ Nuevo\"\n",
            "Song 7: \"Narcos\"\n",
            "Song 8: \"Hipócrita\"\n",
            "Song 9: \"Or Nah (Spanish Remix)\"\n",
            "Song 10: \"Te Necesito\"\n",
            "\n",
            "Reached user-specified song limit (10).\n",
            "Done. Found 10 songs.\n",
            "Songs grabbed:10\n"
          ],
          "name": "stdout"
        }
      ]
    },
    {
      "cell_type": "code",
      "metadata": {
        "id": "d3bEH0by2JhT"
      },
      "source": [
        "total_lyrics = []\n",
        "for lyrics in lyrics_list:\n",
        "  total_lyrics.append(' '.join(lyrics).replace(\"\\n\", \" \"))\n",
        "\n",
        "most_common = []\n",
        "for lyrics in total_lyrics:\n",
        "\n",
        "  tokens = [w for w in word_tokenize(lyrics.lower())\n",
        "                      if w.isalpha()]\n",
        "  no_stops = [t for t in tokens\n",
        "                        if t not in stopwords.words('spanish')]\n",
        "\n",
        "  most_common.append(Counter(no_stops).most_common(20))"
      ],
      "execution_count": 51,
      "outputs": []
    },
    {
      "cell_type": "code",
      "metadata": {
        "colab": {
          "base_uri": "https://localhost:8080/",
          "height": 662
        },
        "id": "s0lX3bipnHH0",
        "outputId": "952dc24d-2a1d-465a-bf41-a406efe29db2"
      },
      "source": [
        "data = {'Bad Bunny':most_common[0],\n",
        "        'J Balvin':most_common[1],\n",
        "        'Ozuna':most_common[2],\n",
        "        'Anuel AA':most_common[3]}\n",
        "\n",
        "pd.DataFrame(data)"
      ],
      "execution_count": 52,
      "outputs": [
        {
          "output_type": "execute_result",
          "data": {
            "text/html": [
              "<div>\n",
              "<style scoped>\n",
              "    .dataframe tbody tr th:only-of-type {\n",
              "        vertical-align: middle;\n",
              "    }\n",
              "\n",
              "    .dataframe tbody tr th {\n",
              "        vertical-align: top;\n",
              "    }\n",
              "\n",
              "    .dataframe thead th {\n",
              "        text-align: right;\n",
              "    }\n",
              "</style>\n",
              "<table border=\"1\" class=\"dataframe\">\n",
              "  <thead>\n",
              "    <tr style=\"text-align: right;\">\n",
              "      <th></th>\n",
              "      <th>Bad Bunny</th>\n",
              "      <th>J Balvin</th>\n",
              "      <th>Ozuna</th>\n",
              "      <th>Anuel AA</th>\n",
              "    </tr>\n",
              "  </thead>\n",
              "  <tbody>\n",
              "    <tr>\n",
              "      <th>0</th>\n",
              "      <td>(ey, 68)</td>\n",
              "      <td>(si, 81)</td>\n",
              "      <td>(oh, 57)</td>\n",
              "      <td>(uah, 75)</td>\n",
              "    </tr>\n",
              "    <tr>\n",
              "      <th>1</th>\n",
              "      <td>(yeh, 45)</td>\n",
              "      <td>(gusta, 69)</td>\n",
              "      <td>(sé, 47)</td>\n",
              "      <td>(baby, 57)</td>\n",
              "    </tr>\n",
              "    <tr>\n",
              "      <th>2</th>\n",
              "      <td>(ahora, 39)</td>\n",
              "      <td>(eh, 41)</td>\n",
              "      <td>(si, 41)</td>\n",
              "      <td>(or, 54)</td>\n",
              "    </tr>\n",
              "    <tr>\n",
              "      <th>3</th>\n",
              "      <td>(si, 37)</td>\n",
              "      <td>(ey, 39)</td>\n",
              "      <td>(quiero, 36)</td>\n",
              "      <td>(nah, 52)</td>\n",
              "    </tr>\n",
              "    <tr>\n",
              "      <th>4</th>\n",
              "      <td>(bien, 29)</td>\n",
              "      <td>(dale, 32)</td>\n",
              "      <td>(eh, 27)</td>\n",
              "      <td>(yeezy, 46)</td>\n",
              "    </tr>\n",
              "    <tr>\n",
              "      <th>5</th>\n",
              "      <td>(to, 27)</td>\n",
              "      <td>(conmigo, 23)</td>\n",
              "      <td>(pa, 26)</td>\n",
              "      <td>(pa, 45)</td>\n",
              "    </tr>\n",
              "    <tr>\n",
              "      <th>6</th>\n",
              "      <td>(wuh, 25)</td>\n",
              "      <td>(ahora, 23)</td>\n",
              "      <td>(amor, 24)</td>\n",
              "      <td>(brr, 41)</td>\n",
              "    </tr>\n",
              "    <tr>\n",
              "      <th>7</th>\n",
              "      <td>(eh, 24)</td>\n",
              "      <td>(uh, 23)</td>\n",
              "      <td>(bebé, 23)</td>\n",
              "      <td>(to, 37)</td>\n",
              "    </tr>\n",
              "    <tr>\n",
              "      <th>8</th>\n",
              "      <td>(pa, 23)</td>\n",
              "      <td>(pa, 21)</td>\n",
              "      <td>(quiere, 18)</td>\n",
              "      <td>(na, 34)</td>\n",
              "    </tr>\n",
              "    <tr>\n",
              "      <th>9</th>\n",
              "      <td>(sola, 23)</td>\n",
              "      <td>(yah, 21)</td>\n",
              "      <td>(na, 16)</td>\n",
              "      <td>(real, 31)</td>\n",
              "    </tr>\n",
              "    <tr>\n",
              "      <th>10</th>\n",
              "      <td>(siempre, 22)</td>\n",
              "      <td>(oh, 19)</td>\n",
              "      <td>(conmigo, 15)</td>\n",
              "      <td>(nuevo, 29)</td>\n",
              "    </tr>\n",
              "    <tr>\n",
              "      <th>11</th>\n",
              "      <td>(quiero, 21)</td>\n",
              "      <td>(tra, 19)</td>\n",
              "      <td>(vuelvo, 15)</td>\n",
              "      <td>(muerte, 27)</td>\n",
              "    </tr>\n",
              "    <tr>\n",
              "      <th>12</th>\n",
              "      <td>(baby, 20)</td>\n",
              "      <td>(leggo, 18)</td>\n",
              "      <td>(woh, 15)</td>\n",
              "      <td>(dinero, 26)</td>\n",
              "    </tr>\n",
              "    <tr>\n",
              "      <th>13</th>\n",
              "      <td>(picheo, 20)</td>\n",
              "      <td>(aquí, 18)</td>\n",
              "      <td>(cómo, 15)</td>\n",
              "      <td>(amo, 25)</td>\n",
              "    </tr>\n",
              "    <tr>\n",
              "      <th>14</th>\n",
              "      <td>(hoy, 19)</td>\n",
              "      <td>(quiero, 18)</td>\n",
              "      <td>(sabe, 14)</td>\n",
              "      <td>(si, 24)</td>\n",
              "    </tr>\n",
              "    <tr>\n",
              "      <th>15</th>\n",
              "      <td>(va, 19)</td>\n",
              "      <td>(ves, 18)</td>\n",
              "      <td>(única, 14)</td>\n",
              "      <td>(va, 24)</td>\n",
              "    </tr>\n",
              "    <tr>\n",
              "      <th>16</th>\n",
              "      <td>(mejor, 19)</td>\n",
              "      <td>(yeah, 16)</td>\n",
              "      <td>(hi, 14)</td>\n",
              "      <td>(yeh, 24)</td>\n",
              "    </tr>\n",
              "    <tr>\n",
              "      <th>17</th>\n",
              "      <td>(joda, 19)</td>\n",
              "      <td>(hoy, 15)</td>\n",
              "      <td>(día, 13)</td>\n",
              "      <td>(bebé, 24)</td>\n",
              "    </tr>\n",
              "    <tr>\n",
              "      <th>18</th>\n",
              "      <td>(peor, 18)</td>\n",
              "      <td>(vez, 15)</td>\n",
              "      <td>(hago, 12)</td>\n",
              "      <td>(bicho, 22)</td>\n",
              "    </tr>\n",
              "    <tr>\n",
              "      <th>19</th>\n",
              "      <td>(ve, 16)</td>\n",
              "      <td>(mami, 14)</td>\n",
              "      <td>(contigo, 12)</td>\n",
              "      <td>(siempre, 22)</td>\n",
              "    </tr>\n",
              "  </tbody>\n",
              "</table>\n",
              "</div>"
            ],
            "text/plain": [
              "        Bad Bunny       J Balvin          Ozuna       Anuel AA\n",
              "0        (ey, 68)       (si, 81)       (oh, 57)      (uah, 75)\n",
              "1       (yeh, 45)    (gusta, 69)       (sé, 47)     (baby, 57)\n",
              "2     (ahora, 39)       (eh, 41)       (si, 41)       (or, 54)\n",
              "3        (si, 37)       (ey, 39)   (quiero, 36)      (nah, 52)\n",
              "4      (bien, 29)     (dale, 32)       (eh, 27)    (yeezy, 46)\n",
              "5        (to, 27)  (conmigo, 23)       (pa, 26)       (pa, 45)\n",
              "6       (wuh, 25)    (ahora, 23)     (amor, 24)      (brr, 41)\n",
              "7        (eh, 24)       (uh, 23)     (bebé, 23)       (to, 37)\n",
              "8        (pa, 23)       (pa, 21)   (quiere, 18)       (na, 34)\n",
              "9      (sola, 23)      (yah, 21)       (na, 16)     (real, 31)\n",
              "10  (siempre, 22)       (oh, 19)  (conmigo, 15)    (nuevo, 29)\n",
              "11   (quiero, 21)      (tra, 19)   (vuelvo, 15)   (muerte, 27)\n",
              "12     (baby, 20)    (leggo, 18)      (woh, 15)   (dinero, 26)\n",
              "13   (picheo, 20)     (aquí, 18)     (cómo, 15)      (amo, 25)\n",
              "14      (hoy, 19)   (quiero, 18)     (sabe, 14)       (si, 24)\n",
              "15       (va, 19)      (ves, 18)    (única, 14)       (va, 24)\n",
              "16    (mejor, 19)     (yeah, 16)       (hi, 14)      (yeh, 24)\n",
              "17     (joda, 19)      (hoy, 15)      (día, 13)     (bebé, 24)\n",
              "18     (peor, 18)      (vez, 15)     (hago, 12)    (bicho, 22)\n",
              "19       (ve, 16)     (mami, 14)  (contigo, 12)  (siempre, 22)"
            ]
          },
          "metadata": {},
          "execution_count": 52
        }
      ]
    },
    {
      "cell_type": "code",
      "metadata": {
        "id": "98NQOiW07fLP"
      },
      "source": [
        ""
      ],
      "execution_count": null,
      "outputs": []
    }
  ]
}